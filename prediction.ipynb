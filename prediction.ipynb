{
 "cells": [
  {
   "cell_type": "code",
   "execution_count": 1,
   "metadata": {},
   "outputs": [
    {
     "name": "stdout",
     "output_type": "stream",
     "text": [
      "(seed, energy coef., orientations, frames, rows, cols): (10, 9, 10, 9, 30, 40)\n"
     ]
    }
   ],
   "source": [
    "#!/usr/bin/env python\n",
    "# coding: utf-8\n",
    "\n",
    "from util import *\n",
    "import numpy as np\n",
    "from PIL import Image\n",
    "import matplotlib.pyplot as plt\n",
    "import os\n",
    "\n",
    "# our dataset has different cases in 10 random seeds, 9 energy coef., 10 orientations, 9 frames, 30 rows, and 40 columns. \n",
    "dname = 'immatrix_2D_40x30_f9_e2'\n",
    "immatrix = np.load(dname+'.npy')\n",
    "print('(seed, energy coef., orientations, frames, rows, cols):', immatrix.shape)\n",
    "frame = immatrix.shape[3]\n",
    "ori_x = [1,0] # base to compute orientation angles\n",
    "candidates = [[1,0],[1,1],[1,2],[1,3],[0,1],[1,5],[2,1],[3,1],[4,1],[1,4]] # all the cases in different orientations\n",
    "ori_sorted = [sin_angle([1,0], i) for i in sorted(candidates, key = lambda s: sin_angle(ori_x,s))] # sorted cases by rad values \n"
   ]
  },
  {
   "cell_type": "code",
   "execution_count": 2,
   "metadata": {},
   "outputs": [
    {
     "name": "stdout",
     "output_type": "stream",
     "text": [
      "Model: \"sequential\"\n",
      "_________________________________________________________________\n",
      " Layer (type)                Output Shape              Param #   \n",
      "=================================================================\n",
      " conv2d (Conv2D)             (None, 15, 20, 256)       13056     \n",
      "                                                                 \n",
      " activation (Activation)     (None, 15, 20, 256)       0         \n",
      "                                                                 \n",
      " dropout (Dropout)           (None, 15, 20, 256)       0         \n",
      "                                                                 \n",
      " conv2d_1 (Conv2D)           (None, 8, 10, 256)        590080    \n",
      "                                                                 \n",
      " activation_1 (Activation)   (None, 8, 10, 256)        0         \n",
      "                                                                 \n",
      " dropout_1 (Dropout)         (None, 8, 10, 256)        0         \n",
      "                                                                 \n",
      " reshape (Reshape)           (None, 80, 256)           0         \n",
      "                                                                 \n",
      " lstm (LSTM)                 (None, 80, 1024)          5246976   \n",
      "                                                                 \n",
      " dense (Dense)               (None, 80, 4800)          4920000   \n",
      "                                                                 \n",
      " reshape_1 (Reshape)         (None, 1, 5, 5, 15360)    0         \n",
      "                                                                 \n",
      " conv3d_transpose (Conv3DTra  (None, 3, 10, 10, 256)   106168576 \n",
      " nspose)                                                         \n",
      "                                                                 \n",
      " activation_2 (Activation)   (None, 3, 10, 10, 256)    0         \n",
      "                                                                 \n",
      " conv3d_transpose_1 (Conv3DT  (None, 9, 30, 40, 256)   8192256   \n",
      " ranspose)                                                       \n",
      "                                                                 \n",
      " activation_3 (Activation)   (None, 9, 30, 40, 256)    0         \n",
      "                                                                 \n",
      " conv3d (Conv3D)             (None, 9, 30, 40, 1)      6913      \n",
      "                                                                 \n",
      "=================================================================\n",
      "Total params: 125,137,857\n",
      "Trainable params: 125,137,857\n",
      "Non-trainable params: 0\n",
      "_________________________________________________________________\n"
     ]
    }
   ],
   "source": [
    "stamp = 'DyFraNet_paper'\n",
    "\n",
    "from tensorflow.keras.models import load_model\n",
    "model = load_model('model/'+stamp+'/model')\n",
    "model.summary()"
   ]
  },
  {
   "cell_type": "markdown",
   "metadata": {},
   "source": [
    "### Case 1"
   ]
  },
  {
   "cell_type": "code",
   "execution_count": 3,
   "metadata": {},
   "outputs": [
    {
     "data": {
      "text/plain": [
       "0"
      ]
     },
     "execution_count": 3,
     "metadata": {},
     "output_type": "execute_result"
    }
   ],
   "source": [
    "fname='test1_deg45'\n",
    "os.makedirs('prediction/'+fname, exist_ok=True)\n",
    "os.system('rm prediction/'+fname+'/*.png')"
   ]
  },
  {
   "cell_type": "code",
   "execution_count": 4,
   "metadata": {},
   "outputs": [
    {
     "data": {
      "text/plain": [
       "0"
      ]
     },
     "execution_count": 4,
     "metadata": {},
     "output_type": "execute_result"
    },
    {
     "data": {
      "image/png": "[encoded data removed]",
      "text/plain": [
       "<Figure size 432x288 with 1 Axes>"
      ]
     },
     "metadata": {
      "needs_background": "light"
     },
     "output_type": "display_data"
    },
    {
     "data": {
      "text/plain": [
       "<Figure size 432x288 with 0 Axes>"
      ]
     },
     "metadata": {},
     "output_type": "display_data"
    },
    {
     "data": {
      "text/plain": [
       "<Figure size 432x288 with 0 Axes>"
      ]
     },
     "metadata": {},
     "output_type": "display_data"
    },
    {
     "data": {
      "text/plain": [
       "<Figure size 432x288 with 0 Axes>"
      ]
     },
     "metadata": {},
     "output_type": "display_data"
    },
    {
     "data": {
      "text/plain": [
       "<Figure size 432x288 with 0 Axes>"
      ]
     },
     "metadata": {},
     "output_type": "display_data"
    },
    {
     "data": {
      "text/plain": [
       "<Figure size 432x288 with 0 Axes>"
      ]
     },
     "metadata": {},
     "output_type": "display_data"
    },
    {
     "data": {
      "text/plain": [
       "<Figure size 432x288 with 0 Axes>"
      ]
     },
     "metadata": {},
     "output_type": "display_data"
    },
    {
     "data": {
      "text/plain": [
       "<Figure size 432x288 with 0 Axes>"
      ]
     },
     "metadata": {},
     "output_type": "display_data"
    },
    {
     "data": {
      "text/plain": [
       "<Figure size 432x288 with 0 Axes>"
      ]
     },
     "metadata": {},
     "output_type": "display_data"
    },
    {
     "data": {
      "text/plain": [
       "<Figure size 432x288 with 0 Axes>"
      ]
     },
     "metadata": {},
     "output_type": "display_data"
    }
   ],
   "source": [
    "# setting up the input geometry\n",
    "X=np.ones((1, 30, 40, 2))\n",
    "X[...,0]=X[...,0]*10\n",
    "X[...,1]=X[...,1]*ori_sorted[1]\n",
    "\n",
    "X[:,8:22,19:21,0]=1\n",
    "X[:,14:16,13:27,0]=1\n",
    "\n",
    "from scipy.ndimage.interpolation import rotate\n",
    "X_center = rotate(X[:,5:25,10:30,0], axes=(1,2), angle=45, reshape = False)\n",
    "X[:,5:25,10:30,0]=X_center\n",
    "X[X==0]=10\n",
    "\n",
    "plt.imshow(X[0,...,0], cmap='gray', vmin=0, vmax=10)\n",
    "plt.axis('off')\n",
    "plt.savefig('prediction/'+fname+'.png', bbox_inches='tight', pad_inches=0, dpi = 10)\n",
    "\n",
    "# prediction and post-processing the movie\n",
    "y_pred = model.predict(X)\n",
    "for f in range(frame):#imnbr//len(ori)+1):\n",
    "    yhat=1-y_pred[0,f,...,0]\n",
    "    plt.figure()\n",
    "\n",
    "    YIMG = Image.fromarray(yhat)\n",
    "    YIMG = np.array(YIMG)\n",
    "    plt.imshow(YIMG, cmap = 'gray', vmin=0, vmax=1)\n",
    "    plt.imshow(X[0,...,0], cmap='hot', vmin=0, vmax=10, alpha=0.2)\n",
    "    plt.axis('off')\n",
    "    plt.savefig('prediction/'+fname+'/'+str(f).zfill(2)+'.png', bbox_inches = 'tight',\n",
    "    pad_inches = 0)\n",
    "\n",
    "    plt.clf()\n",
    "os.system('python3 img2gif.py '+'prediction/'+fname)\n"
   ]
  },
  {
   "cell_type": "markdown",
   "metadata": {},
   "source": [
    "### Case 2"
   ]
  },
  {
   "cell_type": "code",
   "execution_count": 5,
   "metadata": {},
   "outputs": [
    {
     "data": {
      "text/plain": [
       "0"
      ]
     },
     "execution_count": 5,
     "metadata": {},
     "output_type": "execute_result"
    }
   ],
   "source": [
    "fname='test2_deg45'\n",
    "os.makedirs('prediction/'+fname, exist_ok=True)\n",
    "os.system('rm prediction/'+fname+'/*.png')"
   ]
  },
  {
   "cell_type": "code",
   "execution_count": 6,
   "metadata": {},
   "outputs": [
    {
     "data": {
      "text/plain": [
       "0"
      ]
     },
     "execution_count": 6,
     "metadata": {},
     "output_type": "execute_result"
    },
    {
     "data": {
      "image/png": "[encoded data removed]",
      "text/plain": [
       "<Figure size 432x288 with 1 Axes>"
      ]
     },
     "metadata": {
      "needs_background": "light"
     },
     "output_type": "display_data"
    },
    {
     "data": {
      "text/plain": [
       "<Figure size 432x288 with 0 Axes>"
      ]
     },
     "metadata": {},
     "output_type": "display_data"
    },
    {
     "data": {
      "text/plain": [
       "<Figure size 432x288 with 0 Axes>"
      ]
     },
     "metadata": {},
     "output_type": "display_data"
    },
    {
     "data": {
      "text/plain": [
       "<Figure size 432x288 with 0 Axes>"
      ]
     },
     "metadata": {},
     "output_type": "display_data"
    },
    {
     "data": {
      "text/plain": [
       "<Figure size 432x288 with 0 Axes>"
      ]
     },
     "metadata": {},
     "output_type": "display_data"
    },
    {
     "data": {
      "text/plain": [
       "<Figure size 432x288 with 0 Axes>"
      ]
     },
     "metadata": {},
     "output_type": "display_data"
    },
    {
     "data": {
      "text/plain": [
       "<Figure size 432x288 with 0 Axes>"
      ]
     },
     "metadata": {},
     "output_type": "display_data"
    },
    {
     "data": {
      "text/plain": [
       "<Figure size 432x288 with 0 Axes>"
      ]
     },
     "metadata": {},
     "output_type": "display_data"
    },
    {
     "data": {
      "text/plain": [
       "<Figure size 432x288 with 0 Axes>"
      ]
     },
     "metadata": {},
     "output_type": "display_data"
    },
    {
     "data": {
      "text/plain": [
       "<Figure size 432x288 with 0 Axes>"
      ]
     },
     "metadata": {},
     "output_type": "display_data"
    }
   ],
   "source": [
    "# setting up the input geometry\n",
    "X=np.ones((1, 30, 40, 2))\n",
    "X[...,0]=X[...,0]*10\n",
    "X[...,1]=X[...,1]*ori_sorted[1]\n",
    "\n",
    "t=2\n",
    "X[:,8:22,13:27,0]=1\n",
    "X[:,8+t:22-t,13+t:27-t,0]=10\n",
    "\n",
    "from scipy.ndimage.interpolation import rotate\n",
    "X_center = rotate(X[:,5:25,10:30,0], axes=(1,2), angle=36, reshape = False)\n",
    "X[:,5:25,10:30,0]=X_center\n",
    "X[X==0]=10\n",
    "\n",
    "plt.imshow(X[0,...,0], cmap='gray', vmin=0, vmax=10)\n",
    "plt.axis('off')\n",
    "plt.savefig('prediction/'+fname+'.png', bbox_inches='tight', pad_inches=0, dpi = 10)\n",
    "\n",
    "# prediction and post-processing the movie\n",
    "y_pred = model.predict(X)\n",
    "for f in range(frame):#imnbr//len(ori)+1):\n",
    "    yhat=1-y_pred[0,f,...,0]\n",
    "    plt.figure()\n",
    "\n",
    "    YIMG = Image.fromarray(yhat)\n",
    "    YIMG = np.array(YIMG)\n",
    "    plt.imshow(YIMG, cmap = 'gray', vmin=0, vmax=1)\n",
    "    plt.imshow(X[0,...,0], cmap='hot', vmin=0, vmax=10, alpha=0.2)\n",
    "    plt.axis('off')\n",
    "    plt.savefig('prediction/'+fname+'/'+str(f).zfill(2)+'.png', bbox_inches = 'tight',\n",
    "    pad_inches = 0)\n",
    "\n",
    "    plt.clf()\n",
    "os.system('python3 img2gif.py '+'prediction/'+fname)"
   ]
  },
  {
   "cell_type": "code",
   "execution_count": null,
   "metadata": {},
   "outputs": [],
   "source": []
  },
  {
   "cell_type": "code",
   "execution_count": null,
   "metadata": {},
   "outputs": [],
   "source": []
  }
 ],
 "metadata": {
  "kernelspec": {
   "display_name": "Python 3",
   "language": "python",
   "name": "python3"
  },
  "language_info": {
   "codemirror_mode": {
    "name": "ipython",
    "version": 3
   },
   "file_extension": ".py",
   "mimetype": "text/x-python",
   "name": "python",
   "nbconvert_exporter": "python",
   "pygments_lexer": "ipython3",
   "version": "3.8.5"
  }
 },
 "nbformat": 4,
 "nbformat_minor": 4
}
